{
  "nbformat": 4,
  "nbformat_minor": 0,
  "metadata": {
    "colab": {
      "provenance": [],
      "authorship_tag": "ABX9TyP2+WOQvF8rmBTEWfy2o01m",
      "include_colab_link": true
    },
    "kernelspec": {
      "name": "python3",
      "display_name": "Python 3"
    },
    "language_info": {
      "name": "python"
    }
  },
  "cells": [
    {
      "cell_type": "markdown",
      "metadata": {
        "id": "view-in-github",
        "colab_type": "text"
      },
      "source": [
        "<a href=\"https://colab.research.google.com/github/Paul-Lohmann/BTE320/blob/main/Distance_calc_(using_classes).ipynb\" target=\"_parent\"><img src=\"https://colab.research.google.com/assets/colab-badge.svg\" alt=\"Open In Colab\"/></a>"
      ]
    },
    {
      "cell_type": "code",
      "execution_count": 9,
      "metadata": {
        "colab": {
          "base_uri": "https://localhost:8080/"
        },
        "id": "y1dDsEwVyqjA",
        "outputId": "26edce4c-b727-4d24-cf68-354f23777658"
      },
      "outputs": [
        {
          "output_type": "stream",
          "name": "stdout",
          "text": [
            "5.0\n"
          ]
        }
      ],
      "source": [
        "class Point:\n",
        "  def __init__(self, x_int, y_int):\n",
        "    self.x_int = x_int\n",
        "    self.y_int = y_int\n",
        "\n",
        "  def distance(self, other):\n",
        "    x_dis = (self.x_int - other.x_int) ** 2\n",
        "    y_dis = (self.y_int - other.y_int) ** 2\n",
        "    return (x_dis + y_dis) ** 0.5\n",
        "\n",
        "\n",
        "class Point3D(Point):\n",
        "  def _init_(self, x_int, y_int, z_int):\n",
        "    super()._init_(x_int , y_int)\n",
        "    self.z_int = z_int\n",
        "\n",
        "p1 = Point(3,4)\n",
        "p2 = Point(6,8)\n",
        "print(p1.distance(p2))\n"
      ]
    }
  ]
}