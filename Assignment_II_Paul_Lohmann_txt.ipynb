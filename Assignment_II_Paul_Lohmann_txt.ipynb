{
  "nbformat": 4,
  "nbformat_minor": 0,
  "metadata": {
    "colab": {
      "provenance": [],
      "include_colab_link": true
    },
    "kernelspec": {
      "name": "python3",
      "display_name": "Python 3"
    },
    "language_info": {
      "name": "python"
    }
  },
  "cells": [
    {
      "cell_type": "markdown",
      "metadata": {
        "id": "view-in-github",
        "colab_type": "text"
      },
      "source": [
        "<a href=\"https://colab.research.google.com/github/Paul-Lohmann/BTE320/blob/main/Assignment_II_Paul_Lohmann_txt.ipynb\" target=\"_parent\"><img src=\"https://colab.research.google.com/assets/colab-badge.svg\" alt=\"Open In Colab\"/></a>"
      ]
    },
    {
      "cell_type": "markdown",
      "source": [
        "# Problem Set 2"
      ],
      "metadata": {
        "id": "mqKVIuY-mxNU"
      }
    },
    {
      "cell_type": "markdown",
      "source": [
        "## Assignment 1: Quality Control (7 points)\n",
        "\n",
        "A quality control manager would like to find the average weight of a list of weights. Prior experience indicates that the first two measures are atypical, and the practice is to exclude these from the average calculation.\n",
        "\n",
        "Write a program that calculates the average of a list of numbers that given as inputs from the user, excluding the first two values.\n",
        "\n",
        "For your program, you must define and use the following functions:\n",
        "- `getValues(n)`: Prompt the user for `n` values, returns the list\n",
        "- `calcAverage(alist)`: Calculates the average from the list"
      ],
      "metadata": {
        "id": "-RSYW1jVm08n"
      }
    },
    {
      "cell_type": "code",
      "source": [
        "def getValues(n):\n",
        "    values = []\n",
        "    for i in range(n):\n",
        "        value = float(input(\"Enter value {}: \".format(i + 1)))\n",
        "        values.append(value)\n",
        "    return values\n",
        "def calcAverage(alist):\n",
        "    # Exclude first two values\n",
        "    excluded_values = alist[2:]\n",
        "    # Calculate average\n",
        "    average = sum(excluded_values) / len(excluded_values)\n",
        "    return average\n",
        "def main():\n",
        "    n = int(input(\"How many values do you want to enter? \"))\n",
        "    values = getValues(n)\n",
        "    average = calcAverage(values)\n",
        "    print(\"The average of the values (excluding the first two) is:\", average)\n",
        "if __name__ == \"__main__\":\n",
        "    main()"
      ],
      "metadata": {
        "id": "tjkVh9oUqv-M",
        "colab": {
          "base_uri": "https://localhost:8080/"
        },
        "outputId": "cd10be0f-8d12-4c9b-b58b-09c12a70ab8a"
      },
      "execution_count": null,
      "outputs": [
        {
          "output_type": "stream",
          "name": "stdout",
          "text": [
            "How many values do you want to enter? 3\n",
            "Enter value 1: 1\n",
            "Enter value 2: 2\n",
            "Enter value 3: 3\n",
            "The average of the values (excluding the first two) is: 3.0\n"
          ]
        }
      ]
    },
    {
      "cell_type": "markdown",
      "source": [
        "## Assignment 2: Country Statistics Lookup-Multiple Measures (6 points)\n",
        "\n",
        "Assume a program begins with the statement:\n",
        "\n",
        "```python\n",
        "allData = { # dictionary of values for countries\n",
        "    'US': {'pop':325.7, 'gdp': 19.39, 'ccy': 'USD', 'fx':  1.0},\n",
        "    'CA': {'pop': 36.5, 'gdp':  1.65, 'ccy': 'CAD', 'fx':  1.35},\n",
        "    'MX': {'pop':129.2, 'gdp':  1.15, 'ccy': 'MXN', 'fx': 19.68}\n",
        "    }\n",
        "```\n",
        "\n",
        "Write subsequent statements that (in a loop) prompt the user for a country code (`US`, `CA`, or `MX`), then prompt for a measure name (`pop`, `gdp`, `ccy`, or `fx`), then look up in the above dictionary for the corresponding value, and display it.\n",
        "\n",
        "Example run:\n",
        "```\n",
        "Please enter a country code: CA\n",
        "Please enter a statistic: pop\n",
        "CA pop = 36.5\n",
        "```\n",
        "\n",
        "Your program should handle the cases where a user-entered country code or measure name is not found."
      ],
      "metadata": {
        "id": "QFO0Kzx8ncnv"
      }
    },
    {
      "cell_type": "code",
      "source": [
        "allData = { # dictionary of values for countries\n",
        "    'US': {'pop':325.7, 'gdp': 19.39, 'ccy': 'USD', 'fx':  1.0},\n",
        "    'CA': {'pop': 36.5, 'gdp':  1.65, 'ccy': 'CAD', 'fx':  1.35},\n",
        "    'MX': {'pop':129.2, 'gdp':  1.15, 'ccy': 'MXN', 'fx': 19.68}\n",
        "}\n",
        "def main():\n",
        "    while True:\n",
        "        country_code = input(\"Please enter a country code (US, CA, or MX): \").upper()\n",
        "        if country_code not in allData:\n",
        "            print(\"Invalid country code. Please enter a valid code.\")\n",
        "            continue\n",
        "        measure_name = input(\"Please enter a statistic (pop, gdp, ccy, or fx): \").lower()\n",
        "        if measure_name not in allData[country_code]:\n",
        "            print(\"Invalid statistic. Please enter a valid statistic.\")\n",
        "            continue\n",
        "        value = allData[country_code][measure_name]\n",
        "        print(f\"{country_code} {measure_name} = {value}\")\n",
        "        choice = input(\"Do you want to continue (yes/no)? \").lower()\n",
        "        if choice != 'yes':\n",
        "            break\n",
        "if __name__ == \"__main__\":\n",
        "    main()"
      ],
      "metadata": {
        "id": "NZFjRINKowEW",
        "colab": {
          "base_uri": "https://localhost:8080/"
        },
        "outputId": "a72b91ce-a9dc-4ff0-d2d1-1b4b537b4096"
      },
      "execution_count": null,
      "outputs": [
        {
          "name": "stdout",
          "output_type": "stream",
          "text": [
            "Please enter a country code (US, CA, or MX): US\n",
            "Please enter a statistic (pop, gdp, ccy, or fx): fx\n",
            "US fx = 1.0\n",
            "Do you want to continue (yes/no)? yes\n",
            "Please enter a country code (US, CA, or MX): CA\n",
            "Please enter a statistic (pop, gdp, ccy, or fx): gdp\n",
            "CA gdp = 1.65\n",
            "Do you want to continue (yes/no)? no\n"
          ]
        }
      ]
    },
    {
      "cell_type": "markdown",
      "source": [
        "## Assignment 3: Parking Garage (6 points)\n",
        "\n",
        "Write a program to compute the fee for parking in a garage for a number of hours.\n",
        "\n",
        "The program should:\n",
        "- Prompt the user for how many hours parked\n",
        "- Calculate the fee based on the following rules:\n",
        "  - $2.50/hour\n",
        "\n",
        "  - minimum fee is $6.00\n",
        "\n",
        "  - maximum fee is $20.00\n",
        "- Print the result\n",
        "\n",
        "For your program, define and use the following two functions:\n",
        "```python\n",
        "# use input() to prompt for the # of hours parked, return this value\n",
        "def getParkingHours()\n",
        "\n",
        "# takes as input hours (a number), returns the parking fee\n",
        "def calcParkingFee()\n",
        "```"
      ],
      "metadata": {
        "id": "GjaUFrnfpKFf"
      }
    },
    {
      "cell_type": "code",
      "source": [
        "# Prompt user for the number of hours parked\n",
        "def getParkingHours():\n",
        "    while True:\n",
        "        try:\n",
        "            hours = float(input(\"Enter the number of hours parked: \"))\n",
        "            if hours < 0:\n",
        "                print(\"Please enter a positive number of hours.\")\n",
        "            else:\n",
        "                return hours\n",
        "        except ValueError:\n",
        "            print(\"Invalid input. Please enter a valid number.\")\n",
        "# Function to calculate parking fee\n",
        "def calcParkingFee(hours):\n",
        "    fee_per_hour = 2.50\n",
        "    min_fee = 6.00\n",
        "    max_fee = 20.00\n",
        "    # Calculate fee\n",
        "    fee = min(max(min_fee, hours * fee_per_hour), max_fee)\n",
        "    return fee\n",
        "# Main function\n",
        "def main():\n",
        "    # Get the number of hours parked\n",
        "    hours_parked = getParkingHours()\n",
        "    # Calculate parking fee\n",
        "    parking_fee = calcParkingFee(hours_parked)\n",
        "    # Print the result\n",
        "    print(f\"The parking fee for {hours_parked} hours is ${parking_fee:.2f}\")\n",
        "# Call the main function\n",
        "if __name__ == \"__main__\":\n",
        "    main()"
      ],
      "metadata": {
        "id": "5ha4O3V5pwNN"
      },
      "execution_count": null,
      "outputs": []
    },
    {
      "cell_type": "markdown",
      "source": [
        "## Assignment 4: Tuition (6 points)\n",
        "\n",
        "A college charges tuition according to the following:\n",
        "- 12 or more credits: $20,000/semester\n",
        "\n",
        "- 1-11 credits: $1,200 + $1,700 per credit\n",
        "\n",
        "Write a program that prompts the user for a number of credits and determines and displays the tuition for the semester. As part of your program, define and use the following function:\n",
        "```python\n",
        "def calcTuition(credits)\n",
        "```\n",
        "The function returns the tuition for a given number of credits"
      ],
      "metadata": {
        "id": "gipBObe5qm-2"
      }
    },
    {
      "cell_type": "code",
      "source": [
        "# Function to calculate tuition\n",
        "def calcTuition(credits):\n",
        "    if credits >= 12:\n",
        "        tuition = 20000\n",
        "    else:\n",
        "        tuition = 1200 + (credits * 1700)\n",
        "    return tuition\n",
        "# Main function\n",
        "def main():\n",
        "    # Prompt the user for the number of credits\n",
        "    credits = int(input(\"Enter the number of credits: \"))\n",
        "    # Calculate tuition using calcTuition function\n",
        "    tuition = calcTuition(credits)\n",
        "    # Display the result\n",
        "    print(f\"The tuition for {credits} credits is ${tuition}\")\n",
        "# Call the main function\n",
        "if __name__ == \"__main__\":\n",
        "    main()"
      ],
      "metadata": {
        "id": "BPcn9ywzrL8y"
      },
      "execution_count": null,
      "outputs": []
    }
  ]
}