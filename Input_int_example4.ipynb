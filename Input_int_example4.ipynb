{
  "nbformat": 4,
  "nbformat_minor": 0,
  "metadata": {
    "colab": {
      "provenance": [],
      "authorship_tag": "ABX9TyMZH3KFfSiVAhPX2shyMEeE",
      "include_colab_link": true
    },
    "kernelspec": {
      "name": "python3",
      "display_name": "Python 3"
    },
    "language_info": {
      "name": "python"
    }
  },
  "cells": [
    {
      "cell_type": "markdown",
      "metadata": {
        "id": "view-in-github",
        "colab_type": "text"
      },
      "source": [
        "<a href=\"https://colab.research.google.com/github/Paul-Lohmann/BTE320/blob/main/Input_int_example4.ipynb\" target=\"_parent\"><img src=\"https://colab.research.google.com/assets/colab-badge.svg\" alt=\"Open In Colab\"/></a>"
      ]
    },
    {
      "cell_type": "code",
      "execution_count": 2,
      "metadata": {
        "colab": {
          "base_uri": "https://localhost:8080/"
        },
        "id": "5txdeRnOhMw0",
        "outputId": "98d922fc-36a9-4ca2-bf0e-f67d744a9e72"
      },
      "outputs": [
        {
          "output_type": "stream",
          "name": "stdout",
          "text": [
            "Enter a value: 2\n",
            "Enter a value: 4\n",
            "Enter a value: 6\n",
            "Enter a value: 0\n",
            "Stopped.\n",
            "[2, 4, 6]\n"
          ]
        }
      ],
      "source": [
        "L = []\n",
        "while True:\n",
        "    try:\n",
        "        number = int(input('Enter a value: '))\n",
        "        L.append(number)\n",
        "        if number == 0:\n",
        "            L.pop()\n",
        "            print(\"Stopped.\")\n",
        "            break\n",
        "    except ValueError:\n",
        "        print(\"Invalid input. Enter an integer.\")\n",
        "print(L)\n"
      ]
    }
  ]
}