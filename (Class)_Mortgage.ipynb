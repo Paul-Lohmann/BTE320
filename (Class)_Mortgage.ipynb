{
  "nbformat": 4,
  "nbformat_minor": 0,
  "metadata": {
    "colab": {
      "provenance": [],
      "authorship_tag": "ABX9TyO641ODp+uKBoOV4Th5wu/H",
      "include_colab_link": true
    },
    "kernelspec": {
      "name": "python3",
      "display_name": "Python 3"
    },
    "language_info": {
      "name": "python"
    }
  },
  "cells": [
    {
      "cell_type": "markdown",
      "metadata": {
        "id": "view-in-github",
        "colab_type": "text"
      },
      "source": [
        "<a href=\"https://colab.research.google.com/github/Paul-Lohmann/BTE320/blob/main/(Class)_Mortgage.ipynb\" target=\"_parent\"><img src=\"https://colab.research.google.com/assets/colab-badge.svg\" alt=\"Open In Colab\"/></a>"
      ]
    },
    {
      "cell_type": "code",
      "execution_count": 43,
      "metadata": {
        "colab": {
          "base_uri": "https://localhost:8080/"
        },
        "id": "UWZWQnmKJRAG",
        "outputId": "8c31cf3f-2949-4273-ef3a-08e5aab00bf0"
      },
      "outputs": [
        {
          "output_type": "stream",
          "name": "stdout",
          "text": [
            "The monthly payment is 60000.0\n"
          ]
        },
        {
          "output_type": "execute_result",
          "data": {
            "text/plain": [
              "6"
            ]
          },
          "metadata": {},
          "execution_count": 43
        }
      ],
      "source": [
        "class Mortgage:\n",
        "  def __init__(self, loan, maturity, interest):\n",
        "    self.loan = loan\n",
        "    self.maturity = maturity\n",
        "    self.interest = interest\n",
        "\n",
        "  def get_interest(self):\n",
        "    return self.interest\n",
        "\n",
        "  def set_interest(self, new_interest):\n",
        "    if new_interest >= 0:\n",
        "      self.interest = new_interest\n",
        "    else:\n",
        "      print(\"Please enter a non-negative interest value!\")\n",
        "\n",
        "  def calculate(self):\n",
        "    B = self.loan\n",
        "    n = self.maturity\n",
        "    r = self.interest\n",
        "    M = B * ((r*((1+r)**n))/(((1+r)**n)-1))\n",
        "    print(f'The monthly payment is {M}')\n",
        "\n",
        "m = Mortgage(10000, 30, 6)\n",
        "\n",
        "m.calculate()\n",
        "m.get_interest()"
      ]
    },
    {
      "cell_type": "code",
      "source": [
        "m.calculate()\n",
        "m.get_interest()"
      ],
      "metadata": {
        "colab": {
          "base_uri": "https://localhost:8080/"
        },
        "id": "50DeKYF3O4xI",
        "outputId": "1d40ae8b-1e23-4e2d-888d-4f54a6d7420a"
      },
      "execution_count": 46,
      "outputs": [
        {
          "output_type": "stream",
          "name": "stdout",
          "text": [
            "The monthly payment is 50000.0\n"
          ]
        },
        {
          "output_type": "execute_result",
          "data": {
            "text/plain": [
              "5"
            ]
          },
          "metadata": {},
          "execution_count": 46
        }
      ]
    },
    {
      "cell_type": "code",
      "source": [
        "m.set_interest(5)\n",
        "m.get_interest()"
      ],
      "metadata": {
        "colab": {
          "base_uri": "https://localhost:8080/"
        },
        "id": "mirsOV_cQVkm",
        "outputId": "2ed728f7-ffe3-4118-f68f-645a1ad8bb93"
      },
      "execution_count": 47,
      "outputs": [
        {
          "output_type": "execute_result",
          "data": {
            "text/plain": [
              "5"
            ]
          },
          "metadata": {},
          "execution_count": 47
        }
      ]
    }
  ]
}