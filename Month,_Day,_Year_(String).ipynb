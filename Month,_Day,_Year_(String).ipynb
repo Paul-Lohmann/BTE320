{
  "nbformat": 4,
  "nbformat_minor": 0,
  "metadata": {
    "colab": {
      "provenance": [],
      "authorship_tag": "ABX9TyPv8xVQaIOgMWN+82tEfSZ9",
      "include_colab_link": true
    },
    "kernelspec": {
      "name": "python3",
      "display_name": "Python 3"
    },
    "language_info": {
      "name": "python"
    }
  },
  "cells": [
    {
      "cell_type": "markdown",
      "metadata": {
        "id": "view-in-github",
        "colab_type": "text"
      },
      "source": [
        "<a href=\"https://colab.research.google.com/github/Paul-Lohmann/BTE320/blob/main/Month%2C_Day%2C_Year_(String).ipynb\" target=\"_parent\"><img src=\"https://colab.research.google.com/assets/colab-badge.svg\" alt=\"Open In Colab\"/></a>"
      ]
    },
    {
      "cell_type": "code",
      "execution_count": 2,
      "metadata": {
        "colab": {
          "base_uri": "https://localhost:8080/"
        },
        "id": "8yqx1sOnsO7e",
        "outputId": "a903293b-463c-489d-e300-09976b0ffe3c"
      },
      "outputs": [
        {
          "output_type": "stream",
          "name": "stdout",
          "text": [
            "Enter the date: 02/20/2024\n",
            "02 20 2024\n"
          ]
        }
      ],
      "source": [
        "#Write a program that takes imput from the keyboard a string that corresponds to a date (e.g., 02/20/2024) in the format: MM/DD/YYYY\n",
        "\n",
        "date = input(\"Enter the date: \")\n",
        "month = date[0:2]\n",
        "day = date[3:5]\n",
        "year = date[6:]\n",
        "print(month, day, year)\n"
      ]
    }
  ]
}