{
  "nbformat": 4,
  "nbformat_minor": 0,
  "metadata": {
    "colab": {
      "provenance": [],
      "authorship_tag": "ABX9TyM1covnP2OCDdsQCLRyZmCh",
      "include_colab_link": true
    },
    "kernelspec": {
      "name": "python3",
      "display_name": "Python 3"
    },
    "language_info": {
      "name": "python"
    }
  },
  "cells": [
    {
      "cell_type": "markdown",
      "metadata": {
        "id": "view-in-github",
        "colab_type": "text"
      },
      "source": [
        "<a href=\"https://colab.research.google.com/github/Paul-Lohmann/BTE320/blob/main/Calculator_with_operators.ipynb\" target=\"_parent\"><img src=\"https://colab.research.google.com/assets/colab-badge.svg\" alt=\"Open In Colab\"/></a>"
      ]
    },
    {
      "cell_type": "code",
      "execution_count": 83,
      "metadata": {
        "colab": {
          "base_uri": "https://localhost:8080/"
        },
        "id": "cdIxZYCElS-D",
        "outputId": "75f2f631-a4a5-4bdd-8748-67ed4edc3eaa"
      },
      "outputs": [
        {
          "output_type": "stream",
          "name": "stdout",
          "text": [
            "What is the function you want to use? (or type \"break\" to end) \n",
            "break\n",
            "Goodbye!\n"
          ]
        }
      ],
      "source": [
        "# Design a calculator\n",
        "# - The calculator once started, connot stop unless the user chooses to (hint: infinite loop)\n",
        "# - Implement all numberical operators that we discussed (+, -, *, **, /, //, %)\n",
        "# - The user has to provide the numbers and the desired operator from the keyboard; then, the calculator will display the result (use three separate calls to function input()\n",
        "#   for each one of the inputs)\n",
        "\n",
        "# - Numbers: int or float, operator: str\n",
        "# - The calculator stops if the user enters the word \"break\" instead of an operator; it skips an iteration if the user gives an operator that is not numerical (e.g. a boolean one)\n",
        "\n",
        "\n",
        "fin = 0\n",
        "\n",
        "while True:\n",
        "\n",
        "#Inputs\n",
        "  operator = input('What is the function you want to use? (or type \\\"break\" to end) \\n')\n",
        "  if operator == \"break\":\n",
        "    break\n",
        "  value_1 = int(input(\"What is the first value? \\n\"))\n",
        "  value_2 = int(input(\"What is the second value? \\n\"))\n",
        "\n",
        "#Calculator\n",
        "  if operator == \"+\":\n",
        "    result = (value_1 + value_2)\n",
        "  elif operator == \"-\":\n",
        "    result = (value_1 - value_2)\n",
        "  elif operator == \"*\":\n",
        "    result = (value_1 * value_2)\n",
        "  elif operator == \"/\":\n",
        "    result = (value_1 / value_2)\n",
        "  elif operator == \"//\":\n",
        "    result = (value_1 // value_2)\n",
        "  elif operator == \"%\":\n",
        "    result = (value_1 % value_2)\n",
        "  print(f\"Your answer is {result}\")\n",
        "  print(\"\\n\")\n",
        "\n",
        "print(\"Goodbye!\")\n"
      ]
    }
  ]
}