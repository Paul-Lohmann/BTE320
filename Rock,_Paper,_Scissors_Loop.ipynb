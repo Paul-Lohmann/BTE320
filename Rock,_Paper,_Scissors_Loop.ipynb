{
  "nbformat": 4,
  "nbformat_minor": 0,
  "metadata": {
    "colab": {
      "provenance": [],
      "authorship_tag": "ABX9TyNrUsXwpYdUT0ob1TMV5Jyn",
      "include_colab_link": true
    },
    "kernelspec": {
      "name": "python3",
      "display_name": "Python 3"
    },
    "language_info": {
      "name": "python"
    }
  },
  "cells": [
    {
      "cell_type": "markdown",
      "metadata": {
        "id": "view-in-github",
        "colab_type": "text"
      },
      "source": [
        "<a href=\"https://colab.research.google.com/github/Paul-Lohmann/BTE320/blob/main/Rock%2C_Paper%2C_Scissors_Loop.ipynb\" target=\"_parent\"><img src=\"https://colab.research.google.com/assets/colab-badge.svg\" alt=\"Open In Colab\"/></a>"
      ]
    },
    {
      "cell_type": "code",
      "execution_count": 1,
      "metadata": {
        "id": "ULn1L7IU3tlR",
        "outputId": "fdf030b6-5528-416e-b37d-439c61485820",
        "colab": {
          "base_uri": "https://localhost:8080/"
        }
      },
      "outputs": [
        {
          "output_type": "stream",
          "name": "stdout",
          "text": [
            "Hello, welcome to ROCK, PAPER, SCISSORS\n",
            "Would you like to play? (y/n) y\n",
            "Select rock, paper, or scissorsRock\n",
            "The computer chose paper, you chose Rock\n",
            "Computer wins\n",
            "Play again? (y/n) n\n",
            "See you later!\n"
          ]
        }
      ],
      "source": [
        "#Welcome\n",
        "\n",
        "print(\"Hello, welcome to ROCK, PAPER, SCISSORS\")\n",
        "\n",
        "choice = input(\"Would you like to play? (y/n) \")\n",
        "if choice == \"n\":\n",
        "  print(\"See ya later!\")\n",
        "else:\n",
        "  fin = 0\n",
        "  while fin < 1:\n",
        "    user_choice = input(\"Select rock, paper, or scissors\")\n",
        "\n",
        "    import random\n",
        "    computer_choice = random.choice([\"rock\", \"paper\", \"scissors\"])\n",
        "\n",
        "    print(f\"The computer chose {computer_choice}, you chose {user_choice}\")\n",
        "    if user_choice == computer_choice:\n",
        "        print(\"Tie\")\n",
        "    elif (user_choice == \"rock\" and computer_choice == \"scissors\") or (user_choice == \"paper\" and computer_choice == \"rock\") or (user_choice == \"scissors\" and computer_choice == \"paper\"):\n",
        "      print(\"You win!\")\n",
        "    else:\n",
        "      print(\"Computer wins\")\n",
        "\n",
        "    #Repeat or not\n",
        "    answer = input(\"Play again? (y/n) \")\n",
        "    if answer == \"n\":\n",
        "      fin += 1\n",
        "      print(\"See you later!\")\n",
        "\n",
        "\n"
      ]
    }
  ]
}