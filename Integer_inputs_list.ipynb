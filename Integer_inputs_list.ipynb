{
  "nbformat": 4,
  "nbformat_minor": 0,
  "metadata": {
    "colab": {
      "provenance": [],
      "authorship_tag": "ABX9TyM8mw0K4CHprxbudu13kP1Z",
      "include_colab_link": true
    },
    "kernelspec": {
      "name": "python3",
      "display_name": "Python 3"
    },
    "language_info": {
      "name": "python"
    }
  },
  "cells": [
    {
      "cell_type": "markdown",
      "metadata": {
        "id": "view-in-github",
        "colab_type": "text"
      },
      "source": [
        "<a href=\"https://colab.research.google.com/github/Paul-Lohmann/BTE320/blob/main/Integer_inputs_list.ipynb\" target=\"_parent\"><img src=\"https://colab.research.google.com/assets/colab-badge.svg\" alt=\"Open In Colab\"/></a>"
      ]
    },
    {
      "cell_type": "code",
      "execution_count": 10,
      "metadata": {
        "colab": {
          "base_uri": "https://localhost:8080/"
        },
        "id": "HePj-k0kAzxi",
        "outputId": "78570a55-0b6f-4789-ef75-1ba455e074df"
      },
      "outputs": [
        {
          "output_type": "stream",
          "name": "stdout",
          "text": [
            "Enter a value: 8282\n",
            "Enter a value: 213\n",
            "Enter a value: 12\n",
            "Enter a value: 0\n",
            "[8282, 213, 12]\n"
          ]
        }
      ],
      "source": [
        "#Create a program that asks the user for inputs from the keyboard\n",
        "#Asks for integer inputs\n",
        "#\n",
        "\n",
        "L = []\n",
        "\n",
        "while True:\n",
        "  number = int(input('Enter a value: '))\n",
        "\n",
        "  if number != 0:\n",
        "    L.append(number)\n",
        "  else:\n",
        "    break\n",
        "\n",
        "print(L)\n"
      ]
    }
  ]
}