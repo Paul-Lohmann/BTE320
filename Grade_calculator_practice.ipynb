{
  "nbformat": 4,
  "nbformat_minor": 0,
  "metadata": {
    "colab": {
      "provenance": [],
      "authorship_tag": "ABX9TyNn5v8eT+1buz2H3Qbx6vZd",
      "include_colab_link": true
    },
    "kernelspec": {
      "name": "python3",
      "display_name": "Python 3"
    },
    "language_info": {
      "name": "python"
    }
  },
  "cells": [
    {
      "cell_type": "markdown",
      "metadata": {
        "id": "view-in-github",
        "colab_type": "text"
      },
      "source": [
        "<a href=\"https://colab.research.google.com/github/Paul-Lohmann/BTE320/blob/main/Grade_calculator_practice.ipynb\" target=\"_parent\"><img src=\"https://colab.research.google.com/assets/colab-badge.svg\" alt=\"Open In Colab\"/></a>"
      ]
    },
    {
      "cell_type": "code",
      "execution_count": null,
      "metadata": {
        "id": "9r8Vh_2oyAGz"
      },
      "outputs": [],
      "source": [
        "grade = input(\"What is your number grade \")\n",
        "\n",
        "if(int(grade) >= 97):\n",
        "  print(f\"You have a A+ in the class because you have a {grade}\")\n",
        "elif(int(grade) == 93):\n",
        "  print(f\"You have a A in the class because you have a {grade}\")\n",
        "elif(int(grade) >= 90):\n",
        "  print(f\"You have a A- in the class because you have a {grade}\")\n",
        "elif(int(grade) >= 87):\n",
        "  print(f\"You have a B+ in the class because you have a {grade}\")\n",
        "else:\n",
        "  print(\"might as well drop the class at this point ;)\")"
      ]
    }
  ]
}