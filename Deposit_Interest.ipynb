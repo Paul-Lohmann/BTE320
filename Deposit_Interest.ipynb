{
  "nbformat": 4,
  "nbformat_minor": 0,
  "metadata": {
    "colab": {
      "provenance": [],
      "authorship_tag": "ABX9TyPya+eOJAwaQ9IMkwePZr2x",
      "include_colab_link": true
    },
    "kernelspec": {
      "name": "python3",
      "display_name": "Python 3"
    },
    "language_info": {
      "name": "python"
    }
  },
  "cells": [
    {
      "cell_type": "markdown",
      "metadata": {
        "id": "view-in-github",
        "colab_type": "text"
      },
      "source": [
        "<a href=\"https://colab.research.google.com/github/Paul-Lohmann/BTE320/blob/main/Deposit_Interest.ipynb\" target=\"_parent\"><img src=\"https://colab.research.google.com/assets/colab-badge.svg\" alt=\"Open In Colab\"/></a>"
      ]
    },
    {
      "cell_type": "code",
      "execution_count": null,
      "metadata": {
        "colab": {
          "base_uri": "https://localhost:8080/"
        },
        "id": "vZBpUfClbCrE",
        "outputId": "0067ca68-961e-4749-8937-7309f27b79b2"
      },
      "outputs": [
        {
          "output_type": "stream",
          "name": "stdout",
          "text": [
            "Enter customer type (n: new, e: existing): e\n",
            "What is the deposit amount? $ = 10000\n",
            "Your interest rate is 3.25%\n",
            "Your total deposit + interest is 10325.0\n"
          ]
        }
      ],
      "source": [
        "#Define the interest rate you want to deposit\n",
        "\n",
        "customer_type = input('Enter customer type (n: new, e: existing): ')\n",
        "deposit = input(\"What is the deposit amount? $ = \")\n",
        "\n",
        "if customer_type == 'e':\n",
        "  if int(deposit) > 10000:\n",
        "    print(\"Your interest rate is 3.5%\")\n",
        "    interest_rate = 3.5\n",
        "  elif int(deposit) > 1000:\n",
        "    print(\"Your interest rate is 3.25%\")\n",
        "    interest_rate = 3.25\n",
        "  else:\n",
        "    print(\"Your interest rate is 3.0%\")\n",
        "    interest_rate = 3.0\n",
        "else:\n",
        "  interest_rate = 3.0\n",
        "\n",
        "total = ((1 + (interest_rate/100))*int(deposit))\n",
        "print(f\"Your total deposit + interest is {round(total, 2)}\")\n"
      ]
    }
  ]
}