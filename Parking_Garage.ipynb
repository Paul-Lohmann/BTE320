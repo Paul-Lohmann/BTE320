{
  "nbformat": 4,
  "nbformat_minor": 0,
  "metadata": {
    "colab": {
      "provenance": [],
      "authorship_tag": "ABX9TyO29MYDrKK7e6kgj0qJVrl2",
      "include_colab_link": true
    },
    "kernelspec": {
      "name": "python3",
      "display_name": "Python 3"
    },
    "language_info": {
      "name": "python"
    }
  },
  "cells": [
    {
      "cell_type": "markdown",
      "metadata": {
        "id": "view-in-github",
        "colab_type": "text"
      },
      "source": [
        "<a href=\"https://colab.research.google.com/github/Paul-Lohmann/BTE320/blob/main/Parking_Garage.ipynb\" target=\"_parent\"><img src=\"https://colab.research.google.com/assets/colab-badge.svg\" alt=\"Open In Colab\"/></a>"
      ]
    },
    {
      "cell_type": "code",
      "source": [
        "n_hrs = 1\n",
        "for i in range(1, 9):\n",
        "  if n_hrs == 1:\n",
        "    print(f\"{n_hrs} hours would cost $10\")\n",
        "    n_hrs += 1\n",
        "  else:\n",
        "    price = (n_hrs * 2.5) + 5\n",
        "    print(f\"{n_hrs} hours would cost ${int(price)}\")\n",
        "    n_hrs += 1\n"
      ],
      "metadata": {
        "colab": {
          "base_uri": "https://localhost:8080/"
        },
        "id": "hyd1gXkrtsib",
        "outputId": "36e64892-0bf5-43ac-de2c-b56f2c0dae46"
      },
      "execution_count": null,
      "outputs": [
        {
          "output_type": "stream",
          "name": "stdout",
          "text": [
            "1 hours would cost $10\n",
            "2 hours would cost $10\n",
            "3 hours would cost $12\n",
            "4 hours would cost $15\n",
            "5 hours would cost $17\n",
            "6 hours would cost $20\n",
            "7 hours would cost $22\n",
            "8 hours would cost $25\n"
          ]
        }
      ]
    }
  ]
}